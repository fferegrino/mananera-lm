{
 "cells": [
  {
   "cell_type": "markdown",
   "id": "b0cccce9-0323-4421-894c-6675bc4de999",
   "metadata": {},
   "source": [
    "# Creando un (simple) modelo de lenguaje"
   ]
  },
  {
   "cell_type": "code",
   "execution_count": null,
   "id": "dff21208-5fbf-4d6e-a682-ea03a051d2bb",
   "metadata": {},
   "outputs": [],
   "source": [
    "import nltk\n",
    "from nltk import sent_tokenize\n",
    "from nltk.tokenize.toktok import ToktokTokenizer\n",
    "import string"
   ]
  },
  {
   "cell_type": "code",
   "execution_count": null,
   "id": "229c1754-10b5-4826-99dd-7e0693bad90a",
   "metadata": {},
   "outputs": [],
   "source": [
    "nltk.download('punkt')\n",
    "nltk.download('stopwords')"
   ]
  },
  {
   "cell_type": "code",
   "execution_count": null,
   "id": "694e9d63-e742-4163-bc7f-067c1dadf350",
   "metadata": {},
   "outputs": [],
   "source": [
    "dialogos = []\n",
    "with open(\"conferencias.txt\") as r:\n",
    "    for line in r:\n",
    "        dialogos.append(line.strip())"
   ]
  },
  {
   "cell_type": "code",
   "execution_count": null,
   "id": "bb5f7e43-e215-4113-9035-d523407a56c7",
   "metadata": {},
   "outputs": [],
   "source": [
    "tt = ToktokTokenizer()"
   ]
  },
  {
   "cell_type": "code",
   "execution_count": null,
   "id": "d28a4d91-688f-4a90-8e71-aa13bdccd2c7",
   "metadata": {},
   "outputs": [],
   "source": [
    "stopword_es = set(nltk.corpus.stopwords.words('spanish'))\n",
    "punctuation = set(string.punctuation + '¡¿…')"
   ]
  },
  {
   "cell_type": "code",
   "execution_count": null,
   "id": "6eaff19d-8be7-4399-8150-d471b3f42160",
   "metadata": {},
   "outputs": [],
   "source": [
    "def tokenize_dialogo(dialogo):\n",
    "    tokens = []\n",
    "    for sentence in sent_tokenize(dialogo):\n",
    "        for token in tt.tokenize(sentence):\n",
    "            token = token.lower()\n",
    "            # if token in stopword_es:\n",
    "            #     continue\n",
    "            # if token in punctuation:\n",
    "            #     continue\n",
    "            tokens.append(token)\n",
    "    return tokens"
   ]
  },
  {
   "cell_type": "code",
   "execution_count": null,
   "id": "1c45e74a-0f13-4ce6-9278-24c98b3fed1d",
   "metadata": {},
   "outputs": [],
   "source": [
    "diálogo = (\"Y también nos planteó que se atendiera a jóvenes en casas especiales para terapias y apoyo a personas \"\n",
    "           \"con discapacidad. También, ya se buscó una alternativa y ya tenemos una respuesta.\")\n",
    "\n",
    "tokens = tokenize_dialogo(diálogo)\n",
    "\n",
    "print(\" - \".join(tokens))"
   ]
  },
  {
   "cell_type": "code",
   "execution_count": null,
   "id": "fdb638fa-b37f-44a5-8dc5-ba203255dab1",
   "metadata": {},
   "outputs": [],
   "source": [
    "from itertools import chain\n",
    "\n",
    "training_tokens = [\n",
    "    tokenize_dialogo(dialogo) for dialogo in dialogos\n",
    "]"
   ]
  },
  {
   "cell_type": "code",
   "execution_count": null,
   "id": "aeda0067-001b-4b50-9be2-0801142cb158",
   "metadata": {},
   "outputs": [],
   "source": [
    "training_tokens[0]"
   ]
  },
  {
   "cell_type": "markdown",
   "id": "f5d6527d-fb5d-4cd2-92c8-9092cf90c796",
   "metadata": {},
   "source": [
    "## Train a new Vocabulary"
   ]
  },
  {
   "cell_type": "code",
   "execution_count": null,
   "id": "3b3fbc6d-aa4d-4618-ad5c-93719452cea3",
   "metadata": {},
   "outputs": [],
   "source": [
    "%load_ext autoreload\n",
    "%autoreload 2\n",
    "    \n",
    "from vocabulary import Vocabulary"
   ]
  },
  {
   "cell_type": "code",
   "execution_count": null,
   "id": "ddfdb017-05c6-4b95-b993-09a347d40c5c",
   "metadata": {},
   "outputs": [],
   "source": [
    "vocab = Vocabulary()\n",
    "vocab.fit(training_tokens)"
   ]
  },
  {
   "cell_type": "code",
   "execution_count": null,
   "id": "1772a278-cdfd-41b2-92f1-6d7f120020e4",
   "metadata": {},
   "outputs": [],
   "source": [
    "print(list(vocab.tokenset_)[:10])\n",
    "vocab.numero_tokens_"
   ]
  },
  {
   "cell_type": "code",
   "execution_count": null,
   "id": "71b5073f-77e3-47ca-a74d-068d6d46bd6b",
   "metadata": {},
   "outputs": [],
   "source": [
    "vocab.single_token_counts_.most_common(10)"
   ]
  },
  {
   "cell_type": "markdown",
   "id": "8ee8f9eb-64de-4c13-b580-5dcab5874a94",
   "metadata": {},
   "source": [
    "## Crea un nuevo modelo de lenguaje"
   ]
  },
  {
   "cell_type": "code",
   "execution_count": null,
   "id": "451667c8-0cb0-4d94-9a96-74773f2046a0",
   "metadata": {},
   "outputs": [],
   "source": [
    "%load_ext autoreload\n",
    "%autoreload 2\n",
    "    \n",
    "from add_k_trigram_lm import AddKTrigramLM\n",
    "\n",
    "lm = AddKTrigramLM(k=0.1)"
   ]
  },
  {
   "cell_type": "code",
   "execution_count": null,
   "id": "f142dd50-0f0a-499b-9aa9-1d77733cb987",
   "metadata": {},
   "outputs": [],
   "source": [
    "lm.fit(vocab.transform(training_tokens))"
   ]
  },
  {
   "cell_type": "code",
   "execution_count": null,
   "id": "5794c1fb-0553-4342-a676-3ad0568178b9",
   "metadata": {},
   "outputs": [],
   "source": [
    "lm.totals_[('<p>','<p>')]['muchas']"
   ]
  },
  {
   "cell_type": "code",
   "execution_count": null,
   "id": "02ff19ea-6d1d-4d36-9d07-afeb89eac93c",
   "metadata": {},
   "outputs": [],
   "source": [
    "lm.next_token_proba('muchas', ['<p>','<p>'])"
   ]
  },
  {
   "cell_type": "code",
   "execution_count": null,
   "id": "7eae058f-a5be-408d-857e-230eeb83301a",
   "metadata": {},
   "outputs": [],
   "source": [
    "class GeneradorSecuencias:\n",
    "\n",
    "    def __init__(self, language_model, vocabulary):\n",
    "        self.lm = language_model\n",
    "        self.vocab = vocabulary\n",
    "\n",
    "    def sample_next(self, *sequence):\n",
    "        # This looks through each word in the vocab and gets its conditional probability.\n",
    "        # This can be slow if the vocabulary is very large; we could do better.\n",
    "        probs = [lm.next_token_proba(word, sequence) for word in self.lm.tokens_]\n",
    "        \n",
    "        # Pick a word at random according to its conditional probability\n",
    "        return np.random.choice(self.lm.tokens_, p=probs)\n",
    "        \n",
    "\n",
    "    def genera_secuencia(self, *start, max_length = 200):\n",
    "        # Given it the start sequence to indicate the start of a post. \n",
    "        seq = [self.vocab.START_TOKEN, self.vocab.START_TOKEN]\n",
    "        if start:\n",
    "            seq.extend(start)\n",
    "        for i in range(max_length):\n",
    "            seq.append(self.sample_next(*seq))\n",
    "            # Stop at post\n",
    "            if seq[-1] == self.vocab.END_TOKEN:\n",
    "                break\n",
    "        return \" \".join(seq)"
   ]
  },
  {
   "cell_type": "code",
   "execution_count": null,
   "id": "0dbb25b3-9987-42f8-883a-cc210d134297",
   "metadata": {},
   "outputs": [],
   "source": [
    "generador = GeneradorSecuencias(lm, vocab)\n",
    "generador.genera_secuencia('suprema', 'corte')"
   ]
  },
  {
   "cell_type": "code",
   "execution_count": null,
   "id": "9847ae2d-fca3-41f9-a3b7-ede903954116",
   "metadata": {},
   "outputs": [],
   "source": [
    "lm._V"
   ]
  },
  {
   "cell_type": "code",
   "execution_count": null,
   "id": "1f70242b-176d-4fe1-82fb-d441faa935f1",
   "metadata": {},
   "outputs": [],
   "source": []
  }
 ],
 "metadata": {
  "kernelspec": {
   "display_name": "Python 3 (ipykernel)",
   "language": "python",
   "name": "python3"
  },
  "language_info": {
   "codemirror_mode": {
    "name": "ipython",
    "version": 3
   },
   "file_extension": ".py",
   "mimetype": "text/x-python",
   "name": "python",
   "nbconvert_exporter": "python",
   "pygments_lexer": "ipython3",
   "version": "3.10.12"
  }
 },
 "nbformat": 4,
 "nbformat_minor": 5
}
