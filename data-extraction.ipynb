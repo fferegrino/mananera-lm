{
 "cells": [
  {
   "cell_type": "code",
   "execution_count": null,
   "id": "be186532-e322-4bdf-b6d4-8072ebceea28",
   "metadata": {},
   "outputs": [],
   "source": [
    "from kaggle import api\n",
    "import mananeras"
   ]
  },
  {
   "cell_type": "code",
   "execution_count": null,
   "id": "4d2a27d1-d748-4f52-9c66-b9e162136afe",
   "metadata": {},
   "outputs": [],
   "source": [
    "api.dataset_download_files(\"ioexception/mananeras\", path='mananeras', unzip=True)"
   ]
  },
  {
   "cell_type": "code",
   "execution_count": null,
   "id": "8f8eff52-5dea-4cd2-912c-13ef07e1dade",
   "metadata": {},
   "outputs": [],
   "source": [
    "conferencias = mananeras.lee_todas(\"mananeras\")"
   ]
  },
  {
   "cell_type": "code",
   "execution_count": null,
   "id": "c2a5fd8d-aeb8-406e-b8ef-4784ea9a6794",
   "metadata": {},
   "outputs": [],
   "source": [
    "with open(\"conferencias.txt\", \"w\") as w:\n",
    "    for conf in conferencias:\n",
    "        for participacion in conf.participaciones:\n",
    "            for dialog in participacion.dialogos:\n",
    "                if d := dialog.strip():\n",
    "                    w.write(f\"{d}\\n\")"
   ]
  },
  {
   "cell_type": "code",
   "execution_count": null,
   "id": "ec4763b1-f1e2-4f00-bbb2-8934f158d557",
   "metadata": {},
   "outputs": [],
   "source": []
  }
 ],
 "metadata": {
  "kernelspec": {
   "display_name": "Python 3 (ipykernel)",
   "language": "python",
   "name": "python3"
  },
  "language_info": {
   "codemirror_mode": {
    "name": "ipython",
    "version": 3
   },
   "file_extension": ".py",
   "mimetype": "text/x-python",
   "name": "python",
   "nbconvert_exporter": "python",
   "pygments_lexer": "ipython3",
   "version": "3.10.12"
  }
 },
 "nbformat": 4,
 "nbformat_minor": 5
}
